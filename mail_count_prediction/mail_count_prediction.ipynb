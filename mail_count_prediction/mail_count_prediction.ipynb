{
 "cells": [
  {
   "cell_type": "markdown",
   "metadata": {},
   "source": [
    "# Mail count prediction model"
   ]
  },
  {
   "cell_type": "code",
   "execution_count": 1,
   "metadata": {},
   "outputs": [],
   "source": [
    "import pandas as pd\n",
    "import numpy as np\n",
    "\n",
    "import scipy.stats as st\n",
    "from sklearn.metrics import mean_squared_error\n",
    "from sklearn.model_selection import train_test_split\n",
    "\n",
    "import matplotlib.pyplot as plt\n",
    "import matplotlib.dates as mdates\n",
    "import seaborn as sns"
   ]
  },
  {
   "cell_type": "code",
   "execution_count": 2,
   "metadata": {},
   "outputs": [],
   "source": [
    "plt.style.use('ggplot')\n",
    "sns.set()"
   ]
  },
  {
   "cell_type": "markdown",
   "metadata": {},
   "source": [
    "## Source data"
   ]
  },
  {
   "cell_type": "code",
   "execution_count": 3,
   "metadata": {},
   "outputs": [],
   "source": [
    "dtype = {'point1': str, 'point2': str, 'point3': str, 'point4': str}\n",
    "df = pd.read_csv('mails.csv', dtype=dtype, parse_dates=['date1', 'date2', 'date3', 'date4'])"
   ]
  },
  {
   "cell_type": "code",
   "execution_count": 4,
   "metadata": {},
   "outputs": [
    {
     "data": {
      "text/html": [
       "<div>\n",
       "<style scoped>\n",
       "    .dataframe tbody tr th:only-of-type {\n",
       "        vertical-align: middle;\n",
       "    }\n",
       "\n",
       "    .dataframe tbody tr th {\n",
       "        vertical-align: top;\n",
       "    }\n",
       "\n",
       "    .dataframe thead th {\n",
       "        text-align: right;\n",
       "    }\n",
       "</style>\n",
       "<table border=\"1\" class=\"dataframe\">\n",
       "  <thead>\n",
       "    <tr style=\"text-align: right;\">\n",
       "      <th></th>\n",
       "      <th>point1</th>\n",
       "      <th>date1</th>\n",
       "      <th>point2</th>\n",
       "      <th>date2</th>\n",
       "      <th>point3</th>\n",
       "      <th>date3</th>\n",
       "      <th>point4</th>\n",
       "      <th>date4</th>\n",
       "    </tr>\n",
       "  </thead>\n",
       "  <tbody>\n",
       "    <tr>\n",
       "      <th>0</th>\n",
       "      <td>NaN</td>\n",
       "      <td>NaT</td>\n",
       "      <td>NaN</td>\n",
       "      <td>NaT</td>\n",
       "      <td>43</td>\n",
       "      <td>2020-01-14 11:39:46</td>\n",
       "      <td>39</td>\n",
       "      <td>2020-01-14 15:41:25</td>\n",
       "    </tr>\n",
       "    <tr>\n",
       "      <th>1</th>\n",
       "      <td>NaN</td>\n",
       "      <td>NaT</td>\n",
       "      <td>NaN</td>\n",
       "      <td>NaT</td>\n",
       "      <td>42</td>\n",
       "      <td>2020-04-12 10:17:18</td>\n",
       "      <td>39</td>\n",
       "      <td>2020-04-12 15:56:51</td>\n",
       "    </tr>\n",
       "    <tr>\n",
       "      <th>2</th>\n",
       "      <td>NaN</td>\n",
       "      <td>NaT</td>\n",
       "      <td>NaN</td>\n",
       "      <td>NaT</td>\n",
       "      <td>41</td>\n",
       "      <td>2020-04-04 09:50:23</td>\n",
       "      <td>39</td>\n",
       "      <td>2020-04-04 15:25:24</td>\n",
       "    </tr>\n",
       "    <tr>\n",
       "      <th>3</th>\n",
       "      <td>NaN</td>\n",
       "      <td>NaT</td>\n",
       "      <td>NaN</td>\n",
       "      <td>NaT</td>\n",
       "      <td>42</td>\n",
       "      <td>2020-03-17 22:14:00</td>\n",
       "      <td>39</td>\n",
       "      <td>2020-03-18 09:05:05</td>\n",
       "    </tr>\n",
       "    <tr>\n",
       "      <th>4</th>\n",
       "      <td>NaN</td>\n",
       "      <td>NaT</td>\n",
       "      <td>NaN</td>\n",
       "      <td>NaT</td>\n",
       "      <td>42</td>\n",
       "      <td>2020-02-13 03:39:31</td>\n",
       "      <td>39</td>\n",
       "      <td>2020-02-13 13:44:41</td>\n",
       "    </tr>\n",
       "    <tr>\n",
       "      <th>...</th>\n",
       "      <td>...</td>\n",
       "      <td>...</td>\n",
       "      <td>...</td>\n",
       "      <td>...</td>\n",
       "      <td>...</td>\n",
       "      <td>...</td>\n",
       "      <td>...</td>\n",
       "      <td>...</td>\n",
       "    </tr>\n",
       "    <tr>\n",
       "      <th>14932</th>\n",
       "      <td>NaN</td>\n",
       "      <td>NaT</td>\n",
       "      <td>NaN</td>\n",
       "      <td>NaT</td>\n",
       "      <td>20</td>\n",
       "      <td>2020-02-12 02:22:57</td>\n",
       "      <td>39</td>\n",
       "      <td>2020-02-19 19:01:40</td>\n",
       "    </tr>\n",
       "    <tr>\n",
       "      <th>14933</th>\n",
       "      <td>NaN</td>\n",
       "      <td>NaT</td>\n",
       "      <td>NaN</td>\n",
       "      <td>NaT</td>\n",
       "      <td>8</td>\n",
       "      <td>2020-03-03 17:41:05</td>\n",
       "      <td>39</td>\n",
       "      <td>2020-03-06 14:06:55</td>\n",
       "    </tr>\n",
       "    <tr>\n",
       "      <th>14934</th>\n",
       "      <td>NaN</td>\n",
       "      <td>NaT</td>\n",
       "      <td>NaN</td>\n",
       "      <td>NaT</td>\n",
       "      <td>8</td>\n",
       "      <td>2020-03-03 11:38:27</td>\n",
       "      <td>39</td>\n",
       "      <td>2020-03-11 15:57:05</td>\n",
       "    </tr>\n",
       "    <tr>\n",
       "      <th>14935</th>\n",
       "      <td>NaN</td>\n",
       "      <td>NaT</td>\n",
       "      <td>NaN</td>\n",
       "      <td>NaT</td>\n",
       "      <td>8</td>\n",
       "      <td>2020-03-03 17:30:18</td>\n",
       "      <td>39</td>\n",
       "      <td>2020-03-11 15:51:01</td>\n",
       "    </tr>\n",
       "    <tr>\n",
       "      <th>14936</th>\n",
       "      <td>NaN</td>\n",
       "      <td>NaT</td>\n",
       "      <td>NaN</td>\n",
       "      <td>NaT</td>\n",
       "      <td>NaN</td>\n",
       "      <td>NaT</td>\n",
       "      <td>39</td>\n",
       "      <td>2020-03-14 17:48:34</td>\n",
       "    </tr>\n",
       "  </tbody>\n",
       "</table>\n",
       "<p>14937 rows × 8 columns</p>\n",
       "</div>"
      ],
      "text/plain": [
       "      point1 date1 point2 date2 point3               date3 point4  \\\n",
       "0        NaN   NaT    NaN   NaT     43 2020-01-14 11:39:46     39   \n",
       "1        NaN   NaT    NaN   NaT     42 2020-04-12 10:17:18     39   \n",
       "2        NaN   NaT    NaN   NaT     41 2020-04-04 09:50:23     39   \n",
       "3        NaN   NaT    NaN   NaT     42 2020-03-17 22:14:00     39   \n",
       "4        NaN   NaT    NaN   NaT     42 2020-02-13 03:39:31     39   \n",
       "...      ...   ...    ...   ...    ...                 ...    ...   \n",
       "14932    NaN   NaT    NaN   NaT     20 2020-02-12 02:22:57     39   \n",
       "14933    NaN   NaT    NaN   NaT      8 2020-03-03 17:41:05     39   \n",
       "14934    NaN   NaT    NaN   NaT      8 2020-03-03 11:38:27     39   \n",
       "14935    NaN   NaT    NaN   NaT      8 2020-03-03 17:30:18     39   \n",
       "14936    NaN   NaT    NaN   NaT    NaN                 NaT     39   \n",
       "\n",
       "                    date4  \n",
       "0     2020-01-14 15:41:25  \n",
       "1     2020-04-12 15:56:51  \n",
       "2     2020-04-04 15:25:24  \n",
       "3     2020-03-18 09:05:05  \n",
       "4     2020-02-13 13:44:41  \n",
       "...                   ...  \n",
       "14932 2020-02-19 19:01:40  \n",
       "14933 2020-03-06 14:06:55  \n",
       "14934 2020-03-11 15:57:05  \n",
       "14935 2020-03-11 15:51:01  \n",
       "14936 2020-03-14 17:48:34  \n",
       "\n",
       "[14937 rows x 8 columns]"
      ]
     },
     "execution_count": 4,
     "metadata": {},
     "output_type": "execute_result"
    }
   ],
   "source": [
    "df"
   ]
  },
  {
   "cell_type": "markdown",
   "metadata": {},
   "source": [
    "Each row corresponds to a mail:\n",
    "- pointN - id of a Nth point in a mail delivery route\n",
    "- dateN - arrival date and time of a mail at pointN\n",
    "\n",
    "A destination point (point4) of all mails is the same."
   ]
  },
  {
   "cell_type": "markdown",
   "metadata": {},
   "source": [
    "## Descriptive statistics"
   ]
  },
  {
   "cell_type": "markdown",
   "metadata": {},
   "source": [
    "Statistics for delivery time in days:\n",
    "- delta14 - from point1 to point4\n",
    "- delta24 - from point2 to point4\n",
    "- delta34 - from point3 to point4"
   ]
  },
  {
   "cell_type": "code",
   "execution_count": 5,
   "metadata": {},
   "outputs": [],
   "source": [
    "# Calculate mail delivery time from points 1, 2, 3 to point 4 (in days)\n",
    "df['delta14'] = (df['date4'] - df['date1']) / np.timedelta64(1, 'D')\n",
    "df['delta24'] = (df['date4'] - df['date2']) / np.timedelta64(1, 'D')\n",
    "df['delta34'] = (df['date4'] - df['date3']) / np.timedelta64(1, 'D')"
   ]
  },
  {
   "cell_type": "code",
   "execution_count": 6,
   "metadata": {
    "scrolled": false
   },
   "outputs": [
    {
     "data": {
      "text/html": [
       "<div>\n",
       "<style scoped>\n",
       "    .dataframe tbody tr th:only-of-type {\n",
       "        vertical-align: middle;\n",
       "    }\n",
       "\n",
       "    .dataframe tbody tr th {\n",
       "        vertical-align: top;\n",
       "    }\n",
       "\n",
       "    .dataframe thead th {\n",
       "        text-align: right;\n",
       "    }\n",
       "</style>\n",
       "<table border=\"1\" class=\"dataframe\">\n",
       "  <thead>\n",
       "    <tr style=\"text-align: right;\">\n",
       "      <th></th>\n",
       "      <th>delta14</th>\n",
       "      <th>delta24</th>\n",
       "      <th>delta34</th>\n",
       "    </tr>\n",
       "  </thead>\n",
       "  <tbody>\n",
       "    <tr>\n",
       "      <th>count</th>\n",
       "      <td>5776.000000</td>\n",
       "      <td>5694.000000</td>\n",
       "      <td>12954.000000</td>\n",
       "    </tr>\n",
       "    <tr>\n",
       "      <th>mean</th>\n",
       "      <td>6.266635</td>\n",
       "      <td>5.374829</td>\n",
       "      <td>2.116183</td>\n",
       "    </tr>\n",
       "    <tr>\n",
       "      <th>std</th>\n",
       "      <td>3.349485</td>\n",
       "      <td>3.488830</td>\n",
       "      <td>3.820960</td>\n",
       "    </tr>\n",
       "    <tr>\n",
       "      <th>min</th>\n",
       "      <td>0.748032</td>\n",
       "      <td>-63.459780</td>\n",
       "      <td>-56.094606</td>\n",
       "    </tr>\n",
       "    <tr>\n",
       "      <th>25%</th>\n",
       "      <td>4.136563</td>\n",
       "      <td>3.735987</td>\n",
       "      <td>0.401586</td>\n",
       "    </tr>\n",
       "    <tr>\n",
       "      <th>50%</th>\n",
       "      <td>5.688652</td>\n",
       "      <td>5.051013</td>\n",
       "      <td>0.762772</td>\n",
       "    </tr>\n",
       "    <tr>\n",
       "      <th>75%</th>\n",
       "      <td>7.604288</td>\n",
       "      <td>6.702755</td>\n",
       "      <td>1.481589</td>\n",
       "    </tr>\n",
       "    <tr>\n",
       "      <th>max</th>\n",
       "      <td>54.243252</td>\n",
       "      <td>53.720440</td>\n",
       "      <td>49.972049</td>\n",
       "    </tr>\n",
       "  </tbody>\n",
       "</table>\n",
       "</div>"
      ],
      "text/plain": [
       "           delta14      delta24       delta34\n",
       "count  5776.000000  5694.000000  12954.000000\n",
       "mean      6.266635     5.374829      2.116183\n",
       "std       3.349485     3.488830      3.820960\n",
       "min       0.748032   -63.459780    -56.094606\n",
       "25%       4.136563     3.735987      0.401586\n",
       "50%       5.688652     5.051013      0.762772\n",
       "75%       7.604288     6.702755      1.481589\n",
       "max      54.243252    53.720440     49.972049"
      ]
     },
     "execution_count": 6,
     "metadata": {},
     "output_type": "execute_result"
    }
   ],
   "source": [
    "df.describe()"
   ]
  },
  {
   "cell_type": "markdown",
   "metadata": {},
   "source": [
    "Remove mails with a negative delivery time:"
   ]
  },
  {
   "cell_type": "code",
   "execution_count": 7,
   "metadata": {},
   "outputs": [
    {
     "data": {
      "text/html": [
       "<div>\n",
       "<style scoped>\n",
       "    .dataframe tbody tr th:only-of-type {\n",
       "        vertical-align: middle;\n",
       "    }\n",
       "\n",
       "    .dataframe tbody tr th {\n",
       "        vertical-align: top;\n",
       "    }\n",
       "\n",
       "    .dataframe thead th {\n",
       "        text-align: right;\n",
       "    }\n",
       "</style>\n",
       "<table border=\"1\" class=\"dataframe\">\n",
       "  <thead>\n",
       "    <tr style=\"text-align: right;\">\n",
       "      <th></th>\n",
       "      <th>delta14</th>\n",
       "      <th>delta24</th>\n",
       "      <th>delta34</th>\n",
       "    </tr>\n",
       "  </thead>\n",
       "  <tbody>\n",
       "    <tr>\n",
       "      <th>count</th>\n",
       "      <td>5708.000000</td>\n",
       "      <td>5626.000000</td>\n",
       "      <td>12771.000000</td>\n",
       "    </tr>\n",
       "    <tr>\n",
       "      <th>mean</th>\n",
       "      <td>6.288262</td>\n",
       "      <td>5.480219</td>\n",
       "      <td>2.198490</td>\n",
       "    </tr>\n",
       "    <tr>\n",
       "      <th>std</th>\n",
       "      <td>3.332776</td>\n",
       "      <td>2.854029</td>\n",
       "      <td>3.670573</td>\n",
       "    </tr>\n",
       "    <tr>\n",
       "      <th>min</th>\n",
       "      <td>0.748032</td>\n",
       "      <td>0.680486</td>\n",
       "      <td>0.083472</td>\n",
       "    </tr>\n",
       "    <tr>\n",
       "      <th>25%</th>\n",
       "      <td>4.171889</td>\n",
       "      <td>3.791209</td>\n",
       "      <td>0.413490</td>\n",
       "    </tr>\n",
       "    <tr>\n",
       "      <th>50%</th>\n",
       "      <td>5.711308</td>\n",
       "      <td>5.080775</td>\n",
       "      <td>0.777222</td>\n",
       "    </tr>\n",
       "    <tr>\n",
       "      <th>75%</th>\n",
       "      <td>7.612951</td>\n",
       "      <td>6.721982</td>\n",
       "      <td>1.559271</td>\n",
       "    </tr>\n",
       "    <tr>\n",
       "      <th>max</th>\n",
       "      <td>54.243252</td>\n",
       "      <td>53.720440</td>\n",
       "      <td>49.972049</td>\n",
       "    </tr>\n",
       "  </tbody>\n",
       "</table>\n",
       "</div>"
      ],
      "text/plain": [
       "           delta14      delta24       delta34\n",
       "count  5708.000000  5626.000000  12771.000000\n",
       "mean      6.288262     5.480219      2.198490\n",
       "std       3.332776     2.854029      3.670573\n",
       "min       0.748032     0.680486      0.083472\n",
       "25%       4.171889     3.791209      0.413490\n",
       "50%       5.711308     5.080775      0.777222\n",
       "75%       7.612951     6.721982      1.559271\n",
       "max      54.243252    53.720440     49.972049"
      ]
     },
     "execution_count": 7,
     "metadata": {},
     "output_type": "execute_result"
    }
   ],
   "source": [
    "df = df[~(df['delta14'] < 0) & ~(df['delta24'] < 0) & ~(df['delta34'] < 0)]\n",
    "df.describe()"
   ]
  },
  {
   "cell_type": "markdown",
   "metadata": {},
   "source": [
    "Fit Exponential distribution:"
   ]
  },
  {
   "cell_type": "code",
   "execution_count": 8,
   "metadata": {
    "scrolled": true
   },
   "outputs": [
    {
     "data": {
      "image/png": "[encoded data removed]",
      "text/plain": [
       "<Figure size 1080x288 with 3 Axes>"
      ]
     },
     "metadata": {},
     "output_type": "display_data"
    }
   ],
   "source": [
    "filtered = df[~(df['delta14'] > 20) & ~(df['delta24'] > 20) & ~(df['delta34'] > 20)]\n",
    "f, axes = plt.subplots(1, 3, figsize=(15, 4), sharex=True)\n",
    "sns.distplot(filtered['delta14'], color='skyblue', ax=axes[0], fit=st.expon)\n",
    "sns.distplot(filtered['delta24'], color='olive', ax=axes[1], fit=st.expon)\n",
    "sns.distplot(filtered['delta34'], color='teal', ax=axes[2], fit=st.expon);"
   ]
  },
  {
   "cell_type": "markdown",
   "metadata": {},
   "source": [
    "Fit Gamma distribution:"
   ]
  },
  {
   "cell_type": "code",
   "execution_count": 9,
   "metadata": {
    "scrolled": false
   },
   "outputs": [
    {
     "data": {
      "image/png": "[encoded data removed]",
      "text/plain": [
       "<Figure size 1080x288 with 3 Axes>"
      ]
     },
     "metadata": {},
     "output_type": "display_data"
    }
   ],
   "source": [
    "filtered = df[~(df['delta14'] > 20) & ~(df['delta24'] > 20) & ~(df['delta34'] > 20)]\n",
    "f, axes = plt.subplots(1, 3, figsize=(15, 4), sharex=True)\n",
    "sns.distplot(filtered['delta14'], color='skyblue', ax=axes[0], fit=st.gamma)\n",
    "sns.distplot(filtered['delta24'], color='olive', ax=axes[1], fit=st.gamma)\n",
    "sns.distplot(filtered['delta34'], color='teal', ax=axes[2], fit=st.gamma);"
   ]
  },
  {
   "cell_type": "markdown",
   "metadata": {},
   "source": [
    "Delta14 and delta24 has Gamma distribution, because there are several intermediate points between point1 (point2) and point4? So we sum several Exponential distributions (for Poisson processes) and get Gamma distribution?"
   ]
  },
  {
   "cell_type": "code",
   "execution_count": 10,
   "metadata": {},
   "outputs": [],
   "source": [
    "# Tried to fit Erlang distribution, seems it doesn't work. It should be similar to Gamma\n",
    "\n",
    "# filtered = df[~(df['delta14'] > 20) & ~(df['delta24'] > 20) & ~(df['delta34'] > 20)]#.copy()\n",
    "# filtered['delta14'] = filtered['delta14'].round()\n",
    "# filtered['delta24'] = filtered['delta24'].round()\n",
    "# filtered['delta34'] = filtered['delta34'].round()\n",
    "# f, axes = plt.subplots(1, 3, figsize=(15, 4), sharex=True)\n",
    "# sns.distplot(filtered['delta14'], color='skyblue', ax=axes[0], fit=st.erlang)\n",
    "# sns.distplot(filtered['delta24'], color='olive', ax=axes[1], fit=st.erlang)\n",
    "# sns.distplot(filtered['delta34'], color='teal', ax=axes[2], fit=st.erlang);\n",
    "# #st.erlang.fit(filtered['delta14'].dropna().round().astype(int).ravel())"
   ]
  },
  {
   "cell_type": "markdown",
   "metadata": {},
   "source": [
    "## Model limitations\n",
    "\n",
    "For simplicity, we will only use date1. Date2 and date3 can be used in a similar way to improve model quality.\n",
    "\n",
    "There is no train data for some source points (point1). So a total predicted mail count + delayed mail count is less than total actual mail count. Because we don't make any prediction for mails send from such a point1. We could use mean statistics (calculated across all source points) for these point1."
   ]
  },
  {
   "cell_type": "markdown",
   "metadata": {},
   "source": [
    "## Data preparation"
   ]
  },
  {
   "cell_type": "code",
   "execution_count": 11,
   "metadata": {},
   "outputs": [],
   "source": [
    "train_start_date = pd.to_datetime('2020-02-01')\n",
    "train_end_date = pd.to_datetime('2020-02-29')\n",
    "test_start_date = pd.to_datetime('2020-03-01')\n",
    "test_end_date = pd.to_datetime('2020-03-14')\n",
    "train_range = pd.date_range(train_start_date, train_end_date, freq='D', name='date')\n",
    "test_range = pd.date_range(test_start_date, test_end_date, freq='D', name='date')"
   ]
  },
  {
   "cell_type": "markdown",
   "metadata": {},
   "source": [
    "Train and test data:"
   ]
  },
  {
   "cell_type": "code",
   "execution_count": 12,
   "metadata": {
    "scrolled": false
   },
   "outputs": [
    {
     "data": {
      "text/html": [
       "<div>\n",
       "<style scoped>\n",
       "    .dataframe tbody tr th:only-of-type {\n",
       "        vertical-align: middle;\n",
       "    }\n",
       "\n",
       "    .dataframe tbody tr th {\n",
       "        vertical-align: top;\n",
       "    }\n",
       "\n",
       "    .dataframe thead th {\n",
       "        text-align: right;\n",
       "    }\n",
       "</style>\n",
       "<table border=\"1\" class=\"dataframe\">\n",
       "  <thead>\n",
       "    <tr style=\"text-align: right;\">\n",
       "      <th></th>\n",
       "      <th>point1</th>\n",
       "      <th>date1</th>\n",
       "      <th>date4</th>\n",
       "    </tr>\n",
       "  </thead>\n",
       "  <tbody>\n",
       "    <tr>\n",
       "      <th>0</th>\n",
       "      <td>5</td>\n",
       "      <td>2020-02-02 01:34:46</td>\n",
       "      <td>2020-02-06 16:31:25</td>\n",
       "    </tr>\n",
       "    <tr>\n",
       "      <th>1</th>\n",
       "      <td>13</td>\n",
       "      <td>2020-02-06 01:05:30</td>\n",
       "      <td>2020-02-11 11:56:51</td>\n",
       "    </tr>\n",
       "    <tr>\n",
       "      <th>2</th>\n",
       "      <td>13</td>\n",
       "      <td>2020-02-07 03:12:48</td>\n",
       "      <td>2020-02-11 11:48:34</td>\n",
       "    </tr>\n",
       "    <tr>\n",
       "      <th>3</th>\n",
       "      <td>13</td>\n",
       "      <td>2020-02-01 09:33:12</td>\n",
       "      <td>2020-02-04 14:09:38</td>\n",
       "    </tr>\n",
       "    <tr>\n",
       "      <th>4</th>\n",
       "      <td>5</td>\n",
       "      <td>2020-02-03 01:24:34</td>\n",
       "      <td>2020-02-05 11:50:29</td>\n",
       "    </tr>\n",
       "    <tr>\n",
       "      <th>...</th>\n",
       "      <td>...</td>\n",
       "      <td>...</td>\n",
       "      <td>...</td>\n",
       "    </tr>\n",
       "    <tr>\n",
       "      <th>1252</th>\n",
       "      <td>9</td>\n",
       "      <td>2020-02-13 14:19:50</td>\n",
       "      <td>2020-02-17 18:20:48</td>\n",
       "    </tr>\n",
       "    <tr>\n",
       "      <th>1253</th>\n",
       "      <td>13</td>\n",
       "      <td>2020-02-24 21:19:25</td>\n",
       "      <td>2020-03-03 10:42:22</td>\n",
       "    </tr>\n",
       "    <tr>\n",
       "      <th>1254</th>\n",
       "      <td>9</td>\n",
       "      <td>2020-02-26 01:40:39</td>\n",
       "      <td>2020-03-03 11:09:25</td>\n",
       "    </tr>\n",
       "    <tr>\n",
       "      <th>1255</th>\n",
       "      <td>21</td>\n",
       "      <td>2020-02-03 22:20:23</td>\n",
       "      <td>2020-02-11 12:26:14</td>\n",
       "    </tr>\n",
       "    <tr>\n",
       "      <th>1256</th>\n",
       "      <td>11</td>\n",
       "      <td>2020-02-20 19:41:22</td>\n",
       "      <td>2020-02-28 14:33:16</td>\n",
       "    </tr>\n",
       "  </tbody>\n",
       "</table>\n",
       "<p>1257 rows × 3 columns</p>\n",
       "</div>"
      ],
      "text/plain": [
       "     point1               date1               date4\n",
       "0         5 2020-02-02 01:34:46 2020-02-06 16:31:25\n",
       "1        13 2020-02-06 01:05:30 2020-02-11 11:56:51\n",
       "2        13 2020-02-07 03:12:48 2020-02-11 11:48:34\n",
       "3        13 2020-02-01 09:33:12 2020-02-04 14:09:38\n",
       "4         5 2020-02-03 01:24:34 2020-02-05 11:50:29\n",
       "...     ...                 ...                 ...\n",
       "1252      9 2020-02-13 14:19:50 2020-02-17 18:20:48\n",
       "1253     13 2020-02-24 21:19:25 2020-03-03 10:42:22\n",
       "1254      9 2020-02-26 01:40:39 2020-03-03 11:09:25\n",
       "1255     21 2020-02-03 22:20:23 2020-02-11 12:26:14\n",
       "1256     11 2020-02-20 19:41:22 2020-02-28 14:33:16\n",
       "\n",
       "[1257 rows x 3 columns]"
      ]
     },
     "execution_count": 12,
     "metadata": {},
     "output_type": "execute_result"
    }
   ],
   "source": [
    "cond = df['date1'].dt.date.between(train_start_date, train_end_date) & ~df['date4'].isna()\n",
    "cols = ['point1', 'date1', 'date4']\n",
    "data = df[cond][cols].reset_index(drop=True)\n",
    "data"
   ]
  },
  {
   "cell_type": "markdown",
   "metadata": {},
   "source": [
    "Point1 and date1 are predictors. Date4 is a dependent variable."
   ]
  },
  {
   "cell_type": "code",
   "execution_count": 13,
   "metadata": {},
   "outputs": [],
   "source": [
    "def fit(X_train, y_train, f):\n",
    "    deltas = pd.DataFrame({\n",
    "        'point1': X_train['point1'],\n",
    "        'delta14': (y_train - X_train['date1']).dt.total_seconds()\n",
    "    })\n",
    "    return deltas.groupby('point1')['delta14'].apply(f)\n",
    "\n",
    "def predict(X_test, params, f):\n",
    "    return X_test.join(params, on='point1', how='inner') \\\n",
    "        .apply(f, axis=1) \\\n",
    "        .rename('date4')\n",
    "\n",
    "# def test(y_true, y_pred):\n",
    "#     y_true_count = y_true.groupby(y_true.dt.date).count().reindex(test_range, fill_value=0)\n",
    "#     y_pred_count = y_pred.groupby(y_pred.dt.date).count().reindex(test_range, fill_value=0)\n",
    "#     test_count(y_true_count, y_pred_count)\n",
    "#     delayed = y_pred[y_pred.dt.date <= train_end_date]\n",
    "#     print('Found %d delayed mails:\\n%s' % (len(delayed), delayed))\n",
    "\n",
    "def test_count(y_true_count, y_pred_count):\n",
    "    result = pd.DataFrame({'actual': y_true_count, 'predicted': y_pred_count})\n",
    "    ax = result.plot.bar(figsize=(12,3.5), rot=30)\n",
    "    ax.set_title('Mail count')\n",
    "    ax.set_xticklabels(result.index.strftime('%Y-%m-%d'))\n",
    "    plt.show()\n",
    "\n",
    "    rmse = np.sqrt(mean_squared_error(y_true_count, y_pred_count))\n",
    "    print('Root Mean Squared Error: %g' % rmse)\n",
    "    \n",
    "    print('Total mail count (actual, predicted): %d, %d' % (y_true_count.sum(), y_pred_count.sum()))"
   ]
  },
  {
   "cell_type": "code",
   "execution_count": 14,
   "metadata": {},
   "outputs": [],
   "source": [
    "X = data.drop(columns='date4')\n",
    "y = data['date4']"
   ]
  },
  {
   "cell_type": "code",
   "execution_count": 15,
   "metadata": {},
   "outputs": [],
   "source": [
    "train_cond = data['date4'].dt.date.between(train_start_date, train_end_date)\n",
    "test_cond = data['date4'].dt.date.between(test_start_date, test_end_date)\n",
    "X_train = X[train_cond]\n",
    "y_train = y[train_cond]\n",
    "X_test = X[test_cond]\n",
    "y_test = y[test_cond]"
   ]
  },
  {
   "cell_type": "markdown",
   "metadata": {},
   "source": [
    "Maximum mail send date in train set:"
   ]
  },
  {
   "cell_type": "code",
   "execution_count": 16,
   "metadata": {},
   "outputs": [
    {
     "data": {
      "text/plain": [
       "Timestamp('2020-02-28 16:34:25')"
      ]
     },
     "execution_count": 16,
     "metadata": {},
     "output_type": "execute_result"
    }
   ],
   "source": [
    "X_train['date1'].max()"
   ]
  },
  {
   "cell_type": "markdown",
   "metadata": {},
   "source": [
    "Maximum mail receive date in train set:"
   ]
  },
  {
   "cell_type": "code",
   "execution_count": 17,
   "metadata": {
    "scrolled": false
   },
   "outputs": [
    {
     "data": {
      "text/plain": [
       "Timestamp('2020-02-29 17:39:10')"
      ]
     },
     "execution_count": 17,
     "metadata": {},
     "output_type": "execute_result"
    }
   ],
   "source": [
    "y_train.max()"
   ]
  },
  {
   "cell_type": "markdown",
   "metadata": {},
   "source": [
    "Minimum mail receive date in test set:"
   ]
  },
  {
   "cell_type": "code",
   "execution_count": 18,
   "metadata": {},
   "outputs": [
    {
     "data": {
      "text/plain": [
       "Timestamp('2020-03-01 10:59:36')"
      ]
     },
     "execution_count": 18,
     "metadata": {},
     "output_type": "execute_result"
    }
   ],
   "source": [
    "y_test.min()"
   ]
  },
  {
   "cell_type": "code",
   "execution_count": 19,
   "metadata": {},
   "outputs": [],
   "source": [
    "models = []\n",
    "y_true_count = y_test.groupby(y_test.dt.date).count().reindex(test_range, fill_value=0)"
   ]
  },
  {
   "cell_type": "markdown",
   "metadata": {},
   "source": [
    "## Model 1 (mean delivery time)\n",
    "\n",
    "Model parameters (mean delivery time):"
   ]
  },
  {
   "cell_type": "code",
   "execution_count": 20,
   "metadata": {},
   "outputs": [],
   "source": [
    "models.append('Model 1 (mean delivery time)')"
   ]
  },
  {
   "cell_type": "code",
   "execution_count": 21,
   "metadata": {
    "scrolled": true
   },
   "outputs": [
    {
     "data": {
      "text/plain": [
       "point1\n",
       "1     2 days 23:29:27.333333\n",
       "11    8 days 07:46:54.437500\n",
       "13    6 days 23:00:40.765957\n",
       "2     7 days 06:00:50.739130\n",
       "21    5 days 20:22:26.162162\n",
       "23    7 days 04:26:58.200000\n",
       "25   10 days 16:28:39.285714\n",
       "5     4 days 12:21:22.052631\n",
       "50    2 days 08:14:52.463157\n",
       "53    6 days 12:26:22.701754\n",
       "9     6 days 12:56:52.819699\n",
       "Name: delta14, dtype: timedelta64[ns]"
      ]
     },
     "execution_count": 21,
     "metadata": {},
     "output_type": "execute_result"
    }
   ],
   "source": [
    "params1 = pd.to_timedelta(fit(X_train, y_train, np.mean), 's')\n",
    "params1"
   ]
  },
  {
   "cell_type": "markdown",
   "metadata": {},
   "source": [
    "Model testing:"
   ]
  },
  {
   "cell_type": "code",
   "execution_count": 22,
   "metadata": {},
   "outputs": [
    {
     "data": {
      "image/png": "[encoded data removed]",
      "text/plain": [
       "<Figure size 864x252 with 1 Axes>"
      ]
     },
     "metadata": {},
     "output_type": "display_data"
    },
    {
     "name": "stdout",
     "output_type": "stream",
     "text": [
      "Root Mean Squared Error: 15.4689\n",
      "Total mail count (actual, predicted): 269, 219\n"
     ]
    }
   ],
   "source": [
    "def pred(date1, delta14):\n",
    "    return date1 + delta14\n",
    "#     loc = test_start_date - date1\n",
    "#     date4 = date1 + delta14\n",
    "#     if delta14 > loc:\n",
    "#         return date4\n",
    "#     return date1 + loc\n",
    "\n",
    "y_pred1 = predict(X_test, params1, lambda x: pred(x['date1'], x['delta14']))\n",
    "y_pred1_count = y_pred1.groupby(y_pred1.dt.date).count().reindex(test_range, fill_value=0)\n",
    "test_count(y_true_count, y_pred1_count)"
   ]
  },
  {
   "cell_type": "markdown",
   "metadata": {},
   "source": [
    "## Model 2 (median delivery time)\n",
    "\n",
    "Model parameters (median delivery time):"
   ]
  },
  {
   "cell_type": "code",
   "execution_count": 23,
   "metadata": {},
   "outputs": [],
   "source": [
    "models.append('Model 2 (median delivery time)')"
   ]
  },
  {
   "cell_type": "code",
   "execution_count": 24,
   "metadata": {},
   "outputs": [
    {
     "data": {
      "text/plain": [
       "point1\n",
       "1           3 days 04:02:34\n",
       "11   7 days 13:46:08.500000\n",
       "13          6 days 19:39:02\n",
       "2           6 days 16:41:19\n",
       "21          5 days 17:08:32\n",
       "23          7 days 10:39:29\n",
       "25         10 days 04:58:59\n",
       "5           4 days 15:40:53\n",
       "50          2 days 11:14:32\n",
       "53          7 days 01:54:01\n",
       "9           5 days 21:16:41\n",
       "Name: delta14, dtype: timedelta64[ns]"
      ]
     },
     "execution_count": 24,
     "metadata": {},
     "output_type": "execute_result"
    }
   ],
   "source": [
    "def percentile(n: float):\n",
    "    def percentile_(df: pd.DataFrame):\n",
    "        return df.quantile(q=n)\n",
    "    percentile_.__name__ = 'percentile_%s' % n\n",
    "    return percentile_\n",
    "\n",
    "params2 = pd.to_timedelta(fit(X_train, y_train, percentile(0.5)), 's')\n",
    "params2"
   ]
  },
  {
   "cell_type": "markdown",
   "metadata": {},
   "source": [
    "Model testing:"
   ]
  },
  {
   "cell_type": "code",
   "execution_count": 25,
   "metadata": {},
   "outputs": [
    {
     "data": {
      "image/png": "[encoded data removed]",
      "text/plain": [
       "<Figure size 864x252 with 1 Axes>"
      ]
     },
     "metadata": {},
     "output_type": "display_data"
    },
    {
     "name": "stdout",
     "output_type": "stream",
     "text": [
      "Root Mean Squared Error: 19.9893\n",
      "Total mail count (actual, predicted): 269, 213\n"
     ]
    }
   ],
   "source": [
    "y_pred2 = predict(X_test, params2, lambda x: x['date1'] + x['delta14'])\n",
    "y_pred2_count = y_pred2.groupby(y_pred2.dt.date).count().reindex(test_range, fill_value=0)\n",
    "test_count(y_true_count, y_pred2_count)"
   ]
  },
  {
   "cell_type": "markdown",
   "metadata": {},
   "source": [
    "## Model 3 (Poisson process)"
   ]
  },
  {
   "cell_type": "markdown",
   "metadata": {},
   "source": [
    "Model parameters ($\\lambda$ of Exponential distribution):"
   ]
  },
  {
   "cell_type": "code",
   "execution_count": 26,
   "metadata": {},
   "outputs": [],
   "source": [
    "models.append('Model 3 (Poisson process)')"
   ]
  },
  {
   "cell_type": "code",
   "execution_count": 27,
   "metadata": {
    "scrolled": false
   },
   "outputs": [
    {
     "data": {
      "text/plain": [
       "point1\n",
       "1     2 days 23:29:27.333333\n",
       "11    8 days 07:46:54.437500\n",
       "13    6 days 23:00:40.765957\n",
       "2     7 days 06:00:50.739130\n",
       "21    5 days 20:22:26.162162\n",
       "23    7 days 04:26:58.200000\n",
       "25   10 days 16:28:39.285714\n",
       "5     4 days 12:21:22.052631\n",
       "50    2 days 08:14:52.463157\n",
       "53    6 days 12:26:22.701754\n",
       "9     6 days 12:56:52.819699\n",
       "Name: delta14, dtype: timedelta64[ns]"
      ]
     },
     "execution_count": 27,
     "metadata": {},
     "output_type": "execute_result"
    }
   ],
   "source": [
    "params3 = fit(X_train, y_train, lambda x: st.expon.fit(x, floc=0)[1])\n",
    "pd.to_timedelta(params3, 's')"
   ]
  },
  {
   "cell_type": "markdown",
   "metadata": {},
   "source": [
    "Parameters for models 1 and 3 are identical, because rate of Exponential distribution equals to a dataset mean."
   ]
  },
  {
   "cell_type": "markdown",
   "metadata": {},
   "source": [
    "Model testing:"
   ]
  },
  {
   "cell_type": "code",
   "execution_count": 28,
   "metadata": {
    "scrolled": true
   },
   "outputs": [
    {
     "data": {
      "image/png": "[encoded data removed]",
      "text/plain": [
       "<Figure size 864x252 with 1 Axes>"
      ]
     },
     "metadata": {},
     "output_type": "display_data"
    },
    {
     "name": "stdout",
     "output_type": "stream",
     "text": [
      "Root Mean Squared Error: 24.0595\n",
      "Total mail count (actual, predicted): 269, 247\n"
     ]
    }
   ],
   "source": [
    "def pred(date1, rate):\n",
    "    # Generate 100 samples for Exponential distribution\n",
    "    deltas = st.expon.rvs(scale=rate, size=100, random_state=42)\n",
    "    # Predict date4 100 times\n",
    "    date4 = date1 + pd.to_timedelta(pd.Series(deltas), 's')\n",
    "    # For each day, calculate a probability that a mail will be received on that day\n",
    "    # Probabilities are calculated for a prediction date range only\n",
    "    # The probability of receiving mail on other days is zero\n",
    "    counts = date4.groupby(date4.dt.date).count().reindex(test_range, fill_value=0)\n",
    "    return (counts / counts.sum()).ravel()\n",
    "\n",
    "y_pred3 = predict(X_test, params3, lambda x: pred(x['date1'], x['delta14']))\n",
    "# print(y_pred3)\n",
    "\n",
    "y_pred3_count = pd.Series(y_pred3.agg(np.sum).round().astype(int), index=test_range)\n",
    "# We get just an exponential distribution\n",
    "# I think that a different distribution of mail delivery time will give better results\n",
    "test_count(y_true_count, y_pred3_count)"
   ]
  },
  {
   "cell_type": "markdown",
   "metadata": {},
   "source": [
    "## Model 4 (Gamma distribution)"
   ]
  },
  {
   "cell_type": "code",
   "execution_count": 29,
   "metadata": {},
   "outputs": [],
   "source": [
    "models.append('Model 4 (Gamma distribution)')"
   ]
  },
  {
   "cell_type": "markdown",
   "metadata": {},
   "source": [
    "Model parameters:"
   ]
  },
  {
   "cell_type": "code",
   "execution_count": 30,
   "metadata": {
    "scrolled": true
   },
   "outputs": [
    {
     "data": {
      "text/html": [
       "<div>\n",
       "<style scoped>\n",
       "    .dataframe tbody tr th:only-of-type {\n",
       "        vertical-align: middle;\n",
       "    }\n",
       "\n",
       "    .dataframe tbody tr th {\n",
       "        vertical-align: top;\n",
       "    }\n",
       "\n",
       "    .dataframe thead th {\n",
       "        text-align: right;\n",
       "    }\n",
       "</style>\n",
       "<table border=\"1\" class=\"dataframe\">\n",
       "  <thead>\n",
       "    <tr style=\"text-align: right;\">\n",
       "      <th></th>\n",
       "      <th>shape</th>\n",
       "      <th>scale</th>\n",
       "    </tr>\n",
       "    <tr>\n",
       "      <th>point1</th>\n",
       "      <th></th>\n",
       "      <th></th>\n",
       "    </tr>\n",
       "  </thead>\n",
       "  <tbody>\n",
       "    <tr>\n",
       "      <th>1</th>\n",
       "      <td>71.052090</td>\n",
       "      <td>01:00:00</td>\n",
       "    </tr>\n",
       "    <tr>\n",
       "      <th>11</th>\n",
       "      <td>194.851805</td>\n",
       "      <td>01:00:00</td>\n",
       "    </tr>\n",
       "    <tr>\n",
       "      <th>13</th>\n",
       "      <td>154.118220</td>\n",
       "      <td>01:00:00</td>\n",
       "    </tr>\n",
       "    <tr>\n",
       "      <th>2</th>\n",
       "      <td>168.650255</td>\n",
       "      <td>01:00:00</td>\n",
       "    </tr>\n",
       "    <tr>\n",
       "      <th>21</th>\n",
       "      <td>138.849343</td>\n",
       "      <td>01:00:00</td>\n",
       "    </tr>\n",
       "    <tr>\n",
       "      <th>23</th>\n",
       "      <td>171.739558</td>\n",
       "      <td>01:00:00</td>\n",
       "    </tr>\n",
       "    <tr>\n",
       "      <th>25</th>\n",
       "      <td>252.751090</td>\n",
       "      <td>01:00:00</td>\n",
       "    </tr>\n",
       "    <tr>\n",
       "      <th>5</th>\n",
       "      <td>104.591927</td>\n",
       "      <td>01:00:00</td>\n",
       "    </tr>\n",
       "    <tr>\n",
       "      <th>50</th>\n",
       "      <td>55.276946</td>\n",
       "      <td>01:00:00</td>\n",
       "    </tr>\n",
       "    <tr>\n",
       "      <th>53</th>\n",
       "      <td>149.595231</td>\n",
       "      <td>01:00:00</td>\n",
       "    </tr>\n",
       "    <tr>\n",
       "      <th>9</th>\n",
       "      <td>149.463421</td>\n",
       "      <td>01:00:00</td>\n",
       "    </tr>\n",
       "  </tbody>\n",
       "</table>\n",
       "</div>"
      ],
      "text/plain": [
       "             shape    scale\n",
       "point1                     \n",
       "1        71.052090 01:00:00\n",
       "11      194.851805 01:00:00\n",
       "13      154.118220 01:00:00\n",
       "2       168.650255 01:00:00\n",
       "21      138.849343 01:00:00\n",
       "23      171.739558 01:00:00\n",
       "25      252.751090 01:00:00\n",
       "5       104.591927 01:00:00\n",
       "50       55.276946 01:00:00\n",
       "53      149.595231 01:00:00\n",
       "9       149.463421 01:00:00"
      ]
     },
     "execution_count": 30,
     "metadata": {},
     "output_type": "execute_result"
    }
   ],
   "source": [
    "# params4_tuple = fit(X_train, y_train, lambda x: list(st.gamma.fit(x, floc=0)))\n",
    "# params4_tuple = fit(X_train, y_train, lambda x: list(st.gamma.fit(x, floc=0, fscale=1)))\n",
    "# Small scales give better results\n",
    "# Seems that with small scales we just predict some kind of a \"mean\" delivery time\n",
    "# Set it to 1 hour:\n",
    "params4_tuple = fit(X_train, y_train, lambda x: list(st.gamma.fit(x, floc=0, fscale=3600)))\n",
    "params4 = pd.DataFrame({\n",
    "    'shape': params4_tuple.apply(lambda x: x[0]),\n",
    "    'scale': params4_tuple.apply(lambda x: x[2])\n",
    "})\n",
    "params4\n",
    "\n",
    "params4_show = params4.copy()\n",
    "params4_show['scale'] = pd.to_timedelta(params4['scale'], 's')\n",
    "params4_show"
   ]
  },
  {
   "cell_type": "markdown",
   "metadata": {},
   "source": [
    "Model testing:"
   ]
  },
  {
   "cell_type": "code",
   "execution_count": 31,
   "metadata": {
    "scrolled": true
   },
   "outputs": [
    {
     "data": {
      "image/png": "[encoded data removed]",
      "text/plain": [
       "<Figure size 864x252 with 1 Axes>"
      ]
     },
     "metadata": {},
     "output_type": "display_data"
    },
    {
     "name": "stdout",
     "output_type": "stream",
     "text": [
      "Root Mean Squared Error: 14.0433\n",
      "Total mail count (actual, predicted): 269, 220\n"
     ]
    }
   ],
   "source": [
    "def pred(date1, shape, scale):\n",
    "    # Generate 100 samples for Exponential distribution\n",
    "    deltas = st.gamma.rvs(shape, scale=scale, size=100, random_state=42)\n",
    "    # Predict date4 100 times\n",
    "    date4 = date1 + pd.to_timedelta(pd.Series(deltas), 's')\n",
    "    # For each day, calculate a probability that a mail will be received on that day\n",
    "    # Probabilities are calculated for a prediction date range only\n",
    "    # The probability of receiving mail on other days is zero\n",
    "    counts = date4.groupby(date4.dt.date).count().reindex(test_range, fill_value=0)\n",
    "    counts_sum = counts.sum()\n",
    "    return (counts / counts_sum).ravel() if counts_sum > 0 else counts.ravel()\n",
    "\n",
    "y_pred4 = predict(X_test, params4, lambda x: pred(x['date1'], x['shape'], x['scale']))\n",
    "# print(y_pred4)\n",
    "\n",
    "y_true_count = y_test.groupby(y_test.dt.date).count().reindex(test_range, fill_value=0)\n",
    "y_pred4_count = pd.Series(y_pred4.agg(np.sum).round().astype(int), index=test_range)\n",
    "test_count(y_true_count, y_pred4_count)"
   ]
  },
  {
   "cell_type": "markdown",
   "metadata": {},
   "source": [
    "## Model 5 (Gamma distribution mean)"
   ]
  },
  {
   "cell_type": "code",
   "execution_count": 32,
   "metadata": {},
   "outputs": [],
   "source": [
    "models.append('Model 5 (Gamma distribution mean)')"
   ]
  },
  {
   "cell_type": "markdown",
   "metadata": {},
   "source": [
    "Model parameters (Gamma distribution mean, scale = 1 hour):"
   ]
  },
  {
   "cell_type": "code",
   "execution_count": 33,
   "metadata": {
    "scrolled": false
   },
   "outputs": [
    {
     "data": {
      "text/plain": [
       "point1\n",
       "1     2 days 23:03:07.524466\n",
       "11    8 days 02:51:06.496765\n",
       "13    6 days 10:07:05.591347\n",
       "2     7 days 00:39:00.917241\n",
       "21    5 days 18:50:57.635672\n",
       "23    7 days 03:44:22.407543\n",
       "25   10 days 12:45:03.923840\n",
       "5     4 days 08:35:30.936582\n",
       "50    2 days 07:16:37.004117\n",
       "53    6 days 05:35:42.832098\n",
       "9     6 days 05:27:48.315558\n",
       "Name: delta14, dtype: timedelta64[ns]"
      ]
     },
     "execution_count": 33,
     "metadata": {},
     "output_type": "execute_result"
    }
   ],
   "source": [
    "def gamma_mean(x):\n",
    "    params = st.gamma.fit(x, floc=0, fscale=3600)\n",
    "    return params[0] * params[2]\n",
    "\n",
    "params5 = pd.to_timedelta(fit(X_train, y_train, gamma_mean), 's')\n",
    "params5"
   ]
  },
  {
   "cell_type": "markdown",
   "metadata": {},
   "source": [
    "Model testing:"
   ]
  },
  {
   "cell_type": "code",
   "execution_count": 34,
   "metadata": {
    "scrolled": true
   },
   "outputs": [
    {
     "data": {
      "image/png": "[encoded data removed]",
      "text/plain": [
       "<Figure size 864x252 with 1 Axes>"
      ]
     },
     "metadata": {},
     "output_type": "display_data"
    },
    {
     "name": "stdout",
     "output_type": "stream",
     "text": [
      "Root Mean Squared Error: 13.7763\n",
      "Total mail count (actual, predicted): 269, 216\n"
     ]
    }
   ],
   "source": [
    "y_pred5 = predict(X_test, params5, lambda x: x['date1'] + x['delta14'])\n",
    "y_pred5_count = y_pred5.groupby(y_pred5.dt.date).count().reindex(test_range, fill_value=0)\n",
    "test_count(y_true_count, y_pred5_count)"
   ]
  },
  {
   "cell_type": "markdown",
   "metadata": {},
   "source": [
    "The mean of Gamma distribution with scale = 1 hour appears to be better than the simple mean."
   ]
  },
  {
   "cell_type": "markdown",
   "metadata": {},
   "source": [
    "## Model 6 (conditional probability)"
   ]
  },
  {
   "cell_type": "code",
   "execution_count": 35,
   "metadata": {},
   "outputs": [],
   "source": [
    "models.append('Model 6 (conditional probability)')"
   ]
  },
  {
   "cell_type": "markdown",
   "metadata": {},
   "source": [
    "Model parameters (days_until_delivery by point1 and days_since_shipment):"
   ]
  },
  {
   "cell_type": "code",
   "execution_count": 36,
   "metadata": {},
   "outputs": [
    {
     "data": {
      "text/plain": [
       "point1  days_since_shipment\n",
       "1       0                     2 days 16:00:00.000028\n",
       "        1                     1 days 16:00:00.000028\n",
       "        2                            1 days 00:00:00\n",
       "11      0                            8 days 10:30:00\n",
       "        1                            7 days 10:30:00\n",
       "                                       ...          \n",
       "9       16                           3 days 12:00:00\n",
       "        17                           2 days 12:00:00\n",
       "        18                           3 days 00:00:00\n",
       "        19                           2 days 00:00:00\n",
       "        20                           1 days 00:00:00\n",
       "Name: days_until_delivery, Length: 128, dtype: timedelta64[ns]"
      ]
     },
     "execution_count": 36,
     "metadata": {},
     "output_type": "execute_result"
    }
   ],
   "source": [
    "# Calculate total delivery days\n",
    "days = pd.DataFrame({\n",
    "    'point1': X_train['point1'],\n",
    "    'total_days': ((y_train - X_train['date1']) / np.timedelta64(1, 'D')).round().astype('int')\n",
    "})\n",
    "# Calculate days_since_shipment\n",
    "days['days_since_shipment'] = days['total_days'].apply(range)\n",
    "days = days.explode('days_since_shipment').reset_index(drop=True)\n",
    "days['days_since_shipment'] = days['days_since_shipment'].astype(int)\n",
    "# Calculate mean days_until_delivery\n",
    "days['days_until_delivery'] = days['total_days'] - days['days_since_shipment']\n",
    "params6 = pd.to_timedelta(days.groupby(['point1', 'days_since_shipment'])['days_until_delivery'].mean(), 'D')\n",
    "params6"
   ]
  },
  {
   "cell_type": "markdown",
   "metadata": {},
   "source": [
    "Model testing:"
   ]
  },
  {
   "cell_type": "code",
   "execution_count": 37,
   "metadata": {
    "scrolled": true
   },
   "outputs": [
    {
     "data": {
      "image/png": "[encoded data removed]",
      "text/plain": [
       "<Figure size 864x252 with 1 Axes>"
      ]
     },
     "metadata": {},
     "output_type": "display_data"
    },
    {
     "name": "stdout",
     "output_type": "stream",
     "text": [
      "Root Mean Squared Error: 13.6198\n",
      "Total mail count (actual, predicted): 269, 246\n"
     ]
    }
   ],
   "source": [
    "# For example a mail was sent at 2020-02-27 10:00\n",
    "# We need to predict mail arrival date for March (test_start_date = 2020-03-01)\n",
    "# At first we calculate days_since_shipment = test_start_date - date1 - 1 day\n",
    "# We subtract 1 day, because 2020-03-01 is a prediction date, and we know that the mail\n",
    "# was in transit at 2020-02-27, 2020-02-28, 2020-02-29 (for full 2 days, not 3 days):\n",
    "# pd.to_datetime('2020-02-29') - pd.to_datetime('2020-02-27')\n",
    "# The exact value of days_since_shipment is 1.58 days because the mail was sent at 10:00 (not 00:00)\n",
    "# To eliminate rounding errors, we add 0.5 day\n",
    "# In other words we calculate the duration between 2020-02-27 10:00 and 2020-02-29 12:00\n",
    "# The final value of days_since_shipment is 2.08 days\n",
    "# (pd.to_datetime('2020-03-01') - pd.to_datetime('2020-02-27 10:00')) / np.timedelta64(1, 'D') - 1 + 0.5\n",
    "features6 = pd.DataFrame({\n",
    "    'point1': X_test['point1'],\n",
    "    'days_since_shipment': ((test_start_date - X_test['date1']) / np.timedelta64(1, 'D') - 0.5).round().astype('int')\n",
    "})\n",
    "\n",
    "y_pred6 = train_end_date + features6.join(params6, on=['point1', 'days_since_shipment'])['days_until_delivery']\n",
    "y_pred6_count = y_pred6.groupby(y_pred6.dt.date).count().reindex(test_range, fill_value=0)\n",
    "test_count(y_true_count, y_pred6_count)"
   ]
  },
  {
   "cell_type": "markdown",
   "metadata": {},
   "source": [
    "## Model comparision"
   ]
  },
  {
   "cell_type": "code",
   "execution_count": 38,
   "metadata": {
    "scrolled": true
   },
   "outputs": [
    {
     "data": {
      "image/png": "[encoded data removed]",
      "text/plain": [
       "<Figure size 1008x252 with 1 Axes>"
      ]
     },
     "metadata": {},
     "output_type": "display_data"
    }
   ],
   "source": [
    "y_pred_counts = [y_pred1_count, y_pred2_count, y_pred3_count, y_pred4_count, y_pred5_count, y_pred6_count]\n",
    "#results = pd.DataFrame({'predicted_count': })\n",
    "#results\n",
    "y_pred_count_df = pd.DataFrame({'Actual count': y_true_count}, index=test_range)\n",
    "y_pred_count_df\n",
    "for i in range(len(models)):\n",
    "    y_pred_count_df[models[i]] = y_pred_counts[i]\n",
    "ax = y_pred_count_df.plot.bar(figsize=(14,3.5), rot=30)\n",
    "ax.set_title('Mail count')\n",
    "ax.set_xticklabels(y_pred_count_df.index.strftime('%Y-%m-%d'))\n",
    "plt.show()"
   ]
  },
  {
   "cell_type": "code",
   "execution_count": 39,
   "metadata": {},
   "outputs": [
    {
     "data": {
      "text/html": [
       "<div>\n",
       "<style scoped>\n",
       "    .dataframe tbody tr th:only-of-type {\n",
       "        vertical-align: middle;\n",
       "    }\n",
       "\n",
       "    .dataframe tbody tr th {\n",
       "        vertical-align: top;\n",
       "    }\n",
       "\n",
       "    .dataframe thead th {\n",
       "        text-align: right;\n",
       "    }\n",
       "</style>\n",
       "<table border=\"1\" class=\"dataframe\">\n",
       "  <thead>\n",
       "    <tr style=\"text-align: right;\">\n",
       "      <th></th>\n",
       "      <th>rmse</th>\n",
       "      <th>actual_total_count</th>\n",
       "      <th>predicted_total_count</th>\n",
       "      <th>missed_mail_count</th>\n",
       "      <th>predicted_count_ratio</th>\n",
       "    </tr>\n",
       "  </thead>\n",
       "  <tbody>\n",
       "    <tr>\n",
       "      <th>Model 1 (mean delivery time)</th>\n",
       "      <td>15.468863</td>\n",
       "      <td>269</td>\n",
       "      <td>219</td>\n",
       "      <td>50</td>\n",
       "      <td>0.814126</td>\n",
       "    </tr>\n",
       "    <tr>\n",
       "      <th>Model 2 (median delivery time)</th>\n",
       "      <td>19.989283</td>\n",
       "      <td>269</td>\n",
       "      <td>213</td>\n",
       "      <td>56</td>\n",
       "      <td>0.791822</td>\n",
       "    </tr>\n",
       "    <tr>\n",
       "      <th>Model 3 (Poisson process)</th>\n",
       "      <td>24.059450</td>\n",
       "      <td>269</td>\n",
       "      <td>247</td>\n",
       "      <td>22</td>\n",
       "      <td>0.918216</td>\n",
       "    </tr>\n",
       "    <tr>\n",
       "      <th>Model 4 (Gamma distribution)</th>\n",
       "      <td>14.043300</td>\n",
       "      <td>269</td>\n",
       "      <td>220</td>\n",
       "      <td>49</td>\n",
       "      <td>0.817844</td>\n",
       "    </tr>\n",
       "    <tr>\n",
       "      <th>Model 5 (Gamma distribution mean)</th>\n",
       "      <td>13.776274</td>\n",
       "      <td>269</td>\n",
       "      <td>216</td>\n",
       "      <td>53</td>\n",
       "      <td>0.802974</td>\n",
       "    </tr>\n",
       "    <tr>\n",
       "      <th>Model 6 (conditional probability)</th>\n",
       "      <td>13.619838</td>\n",
       "      <td>269</td>\n",
       "      <td>246</td>\n",
       "      <td>23</td>\n",
       "      <td>0.914498</td>\n",
       "    </tr>\n",
       "  </tbody>\n",
       "</table>\n",
       "</div>"
      ],
      "text/plain": [
       "                                        rmse  actual_total_count  \\\n",
       "Model 1 (mean delivery time)       15.468863                 269   \n",
       "Model 2 (median delivery time)     19.989283                 269   \n",
       "Model 3 (Poisson process)          24.059450                 269   \n",
       "Model 4 (Gamma distribution)       14.043300                 269   \n",
       "Model 5 (Gamma distribution mean)  13.776274                 269   \n",
       "Model 6 (conditional probability)  13.619838                 269   \n",
       "\n",
       "                                   predicted_total_count  missed_mail_count  \\\n",
       "Model 1 (mean delivery time)                         219                 50   \n",
       "Model 2 (median delivery time)                       213                 56   \n",
       "Model 3 (Poisson process)                            247                 22   \n",
       "Model 4 (Gamma distribution)                         220                 49   \n",
       "Model 5 (Gamma distribution mean)                    216                 53   \n",
       "Model 6 (conditional probability)                    246                 23   \n",
       "\n",
       "                                   predicted_count_ratio  \n",
       "Model 1 (mean delivery time)                    0.814126  \n",
       "Model 2 (median delivery time)                  0.791822  \n",
       "Model 3 (Poisson process)                       0.918216  \n",
       "Model 4 (Gamma distribution)                    0.817844  \n",
       "Model 5 (Gamma distribution mean)               0.802974  \n",
       "Model 6 (conditional probability)               0.914498  "
      ]
     },
     "execution_count": 39,
     "metadata": {},
     "output_type": "execute_result"
    }
   ],
   "source": [
    "results = pd.DataFrame({\n",
    "    'rmse': 0,\n",
    "    'actual_total_count': y_true_count.sum(),\n",
    "    'predicted_total_count': 0}, index=models)\n",
    "results\n",
    "for i in range(len(models)):\n",
    "    results.loc[models[i], 'rmse'] = np.sqrt(mean_squared_error(y_true_count, y_pred_counts[i]))\n",
    "    results.loc[models[i], 'predicted_total_count'] = y_pred_counts[i].sum()\n",
    "results['missed_mail_count'] = results['actual_total_count'] - results['predicted_total_count']\n",
    "results['predicted_count_ratio'] = results['predicted_total_count'] / results['actual_total_count']\n",
    "results"
   ]
  }
 ],
 "metadata": {
  "kernelspec": {
   "display_name": "Python 3",
   "language": "python",
   "name": "python3"
  },
  "language_info": {
   "codemirror_mode": {
    "name": "ipython",
    "version": 3
   },
   "file_extension": ".py",
   "mimetype": "text/x-python",
   "name": "python",
   "nbconvert_exporter": "python",
   "pygments_lexer": "ipython3",
   "version": "3.8.3"
  }
 },
 "nbformat": 4,
 "nbformat_minor": 4
}
